{
 "cells": [
  {
   "cell_type": "markdown",
   "id": "97044c1b-87ab-41fc-b459-84f8b14e0b1d",
   "metadata": {},
   "source": [
    "# Accelerate Distributed Fine-Tuning a foundation model for multiple tasks (with QLoRA)\n",
    "Using the huggingface accelerate API and CML Workers, show how to set up configurations to use multiple CML workers with GPU to perform distributed training.\n",
    "\n",
    "The following notebook is an example of performing the bundled QLoRA fine-tuning on an LLM using an instruction-following dataset distributed across multiple CML Workers. This script produces the same instruction-following adapter as shown in the amp_adapters_prebuilt directory and the CML Job \"Job for fine-tuning on Instruction Dataset\"\n",
    "\n",
    "Requirements:\n",
    "- Notebook Session:\n",
    "  - 2 CPU / 8 MEM / 1 GPU\n",
    "- GPUs:\n",
    "This notebook requires access within this CML workspace for a total of 2 GPUs.\n",
    "  - 1 for this Notebook Session (described above)\n",
    "  - 1 for the spawned CML Worker.\n",
    "- Runtime:\n",
    "  - JupyterLab - Python 3.9 - Nvidia GPU - 2023.05\n",
    "\n",
    "Note: This executes fine-tuning code defined in fine_tune_src/distributed_peft_scripts. See the implementation README in fine_tune_src/distributed_peft_scripts for a description of the fine-tuning code using huggingface transformers/trl."
   ]
  },
  {
   "cell_type": "markdown",
   "id": "b1ef0a24-ba43-449f-98cf-e22a05062b0e",
   "metadata": {},
   "source": [
    "### Set Training Script Path\n",
    "This is the training script that will be distributed. The script itself can be run standalone or distributed with accelerate thanks to huggingface transformer and trl integration with accelerate internally."
   ]
  },
  {
   "cell_type": "code",
   "execution_count": 1,
   "id": "0c8a8bdb-e703-4108-86d8-8f7dfcc0c10f",
   "metadata": {},
   "outputs": [],
   "source": [
    "train_script = \"fine_tune_src/distributed_peft_scripts/task_instruction_fine_tuner.py\""
   ]
  },
  {
   "cell_type": "markdown",
   "id": "3b709d78-cedf-4c39-b275-419268ecd7d1",
   "metadata": {},
   "source": [
    "## Part 0: Install Dependencies\n",
    "\n",
    "Install dependencies for all imports used in this notebook or referenced in the distributed fine-tuning script."
   ]
  },
  {
   "cell_type": "code",
   "execution_count": 2,
   "id": "443ac8f0-3489-4686-9fcd-18e003a2eccf",
   "metadata": {
    "tags": []
   },
   "outputs": [],
   "source": [
    "!pip install -q --no-cache-dir -r requirements.txt"
   ]
  },
  {
   "cell_type": "markdown",
   "id": "337275b1-51c8-49a7-bec8-a3934303a367",
   "metadata": {},
   "source": [
    "## Part 1: Generate accelerate configuration\n",
    "See https://huggingface.co/docs/accelerate/quicktour for guides on how to manually set up accelerate across workers if desired"
   ]
  },
  {
   "cell_type": "markdown",
   "id": "4fbd1e57-4c10-460e-b114-e214b0e51dcc",
   "metadata": {},
   "source": [
    "Must generate configurations for:\n",
    "- NUM_WORKERS : (2) number of separate CML sessions/workers to run\n",
    "- NUM_GPU_PER_WORKER : (1) GPU per CML Worker\n",
    "  - See gpu_ids in accelerate configuration guide to adjust this in your accelerate config template\n",
    "- MASTER_IP : The POD IP of this main CML session\n",
    "\n",
    "These are the main variable configurations for accelerate we are concerned with to control distribution."
   ]
  },
  {
   "cell_type": "code",
   "execution_count": 3,
   "id": "20b42e40-b56f-4d4a-856d-789a18e5a54a",
   "metadata": {
    "tags": []
   },
   "outputs": [],
   "source": [
    "import os\n",
    "NUM_WORKERS = 2\n",
    "NUM_GPU_PER_WORKER = 1\n",
    "MASTER_IP = os.environ[\"CDSW_IP_ADDRESS\"]\n",
    "\n",
    "# Set directory for all sub-workers to pull configurations from\n",
    "conf_dir = \"./.tmp_accelerate_configs_notebook/\"\n",
    "config_path_tmpl = conf_dir + \"${WORKER}_config.yaml\""
   ]
  },
  {
   "cell_type": "markdown",
   "id": "6cc39531",
   "metadata": {},
   "source": [
    "Different accelerate configurations are required for each accelerate worker, set that up here. "
   ]
  },
  {
   "cell_type": "code",
   "execution_count": 4,
   "id": "100c6a32-1167-4f6b-8a74-af6cb83fdacf",
   "metadata": {
    "tags": []
   },
   "outputs": [
    {
     "name": "stdout",
     "output_type": "stream",
     "text": [
      "creating config 0\n",
      "creating config 1\n"
     ]
    }
   ],
   "source": [
    "import os\n",
    "from string import Template\n",
    "\n",
    "template_file = open(\"fine_tune_src/distributed_peft_scripts/common/accelerate_configs/accelerate_multi_config.yaml.tmpl\")\n",
    "template_string = template_file.read()\n",
    "template_file.close()\n",
    "\n",
    "os.makedirs(conf_dir, exist_ok=True)\n",
    "for i in range(NUM_WORKERS):\n",
    "    print(\"creating config %i\" % i)\n",
    "    config_file = Template(template_string)\n",
    "    config_file = config_file.substitute(MACHINE_RANK=i, MAIN_SESSION_IP=MASTER_IP, NUM_MACHINES=NUM_WORKERS, NUM_PROCESSES=NUM_WORKERS)\n",
    "    config_path = Template(config_path_tmpl).substitute(WORKER=i)\n",
    "\n",
    "    new_config = open(config_path, \"w\")\n",
    "    new_config.write(config_file)\n",
    "    new_config.close()"
   ]
  },
  {
   "cell_type": "markdown",
   "id": "9d5be227-ce9c-499c-95e8-db08916fd482",
   "metadata": {},
   "source": [
    "## Part 2: Execute accelerate CLI command on this session and spawned workers\n",
    "**Note:** This session counts as worker 0\n",
    "\n",
    "Using the predefined fine-tuning script, launch distributed fine-tuning by launching accelerate on CML Workers."
   ]
  },
  {
   "cell_type": "code",
   "execution_count": 5,
   "id": "d02777a6-b222-4b3e-9580-eecd81cc7e12",
   "metadata": {
    "tags": []
   },
   "outputs": [],
   "source": [
    "# Command template to launch accross all session/workers\n",
    "command_tmpl = \"accelerate launch --config_file $CONF_PATH $TRAIN_SCRIPT\""
   ]
  },
  {
   "cell_type": "markdown",
   "id": "702a3f62-8029-4fdb-9ecd-7cf636a9d613",
   "metadata": {},
   "source": [
    "To launch accelerate training in distributed mode we need to execute accelerate launch as a shell command using specific config files for each \"accelerate worker\".\n",
    "\n",
    "eg. If 2 \"accelerate workers\" are specified then there is a worker locally in this session and we launch an additional CML Worker\n",
    "\n",
    "eg. If 3 \"accelerate workers\" are specified then there is a worker locally in this session and we launch two additional CML Worker and so on"
   ]
  },
  {
   "cell_type": "code",
   "execution_count": 6,
   "id": "3e72303f-ba85-4ae5-9afc-cecf4ef3901e",
   "metadata": {
    "tags": []
   },
   "outputs": [
    {
     "name": "stdout",
     "output_type": "stream",
     "text": [
      "Launch accelerate locally (this session acts as worker of rank 1 aka main worker)...\n",
      "\t Command: [accelerate launch --config_file ./.tmp_accelerate_configs_notebook/0_config.yaml fine_tune_src/distributed_peft_scripts/task_instruction_fine_tuner.py]\n",
      "Launch CML worker and launch accelerate within them ...\n",
      "\t Command: [accelerate launch --config_file ./.tmp_accelerate_configs_notebook/1_config.yaml fine_tune_src/distributed_peft_scripts/task_instruction_fine_tuner.py]\n",
      "bin /home/cdsw/.local/lib/python3.9/site-packages/bitsandbytes/libbitsandbytes_cuda118_nocublaslt.so\n"
     ]
    },
    {
     "name": "stderr",
     "output_type": "stream",
     "text": [
      "Downloading readme: 100%|██████████| 458/458 [00:00<00:00, 682kB/s]\n"
     ]
    },
    {
     "name": "stdout",
     "output_type": "stream",
     "text": [
      "Downloading and preparing dataset json/teknium--GPTeacher-General-Instruct to /home/cdsw/.cache/rtxszcbtkozty80i/huggingface/datasets/teknium___json/teknium--GPTeacher-General-Instruct-3d3eb51407944fd2/0.0.0/e347ab1c932092252e717ff3f949105a4dd28b27e842dd53157d2f72e276c2e4...\n"
     ]
    },
    {
     "name": "stderr",
     "output_type": "stream",
     "text": [
      "Downloading data files:   0%|          | 0/1 [00:00<?, ?it/s]\n",
      "Downloading data:   0%|          | 0.00/12.3M [00:00<?, ?B/s]\u001b[A\n",
      "Downloading data: 100%|██████████| 12.3M/12.3M [00:00<00:00, 64.9MB/s]\u001b[A\n",
      "\n",
      "Downloading data:   0%|          | 0.00/12.1M [00:00<?, ?B/s]\u001b[A\n",
      "Downloading data: 100%|██████████| 12.1M/12.1M [00:00<00:00, 65.4MB/s]\u001b[A\n",
      "\n",
      "Downloading data:   0%|          | 0.00/12.2M [00:00<?, ?B/s]\u001b[A\n",
      "Downloading data: 100%|██████████| 12.2M/12.2M [00:00<00:00, 65.7MB/s]\u001b[A\n",
      "\n",
      "Downloading data:   0%|          | 0.00/12.2M [00:00<?, ?B/s]\u001b[A\n",
      "Downloading data: 100%|██████████| 12.2M/12.2M [00:00<00:00, 63.3MB/s]\u001b[A\n",
      "\n",
      "Downloading data:   0%|          | 0.00/12.2M [00:00<?, ?B/s]\u001b[A\n",
      "Downloading data: 100%|██████████| 12.2M/12.2M [00:00<00:00, 67.2MB/s]\u001b[A\n",
      "Downloading data files: 100%|██████████| 1/1 [00:03<00:00,  3.36s/it]\n",
      "Extracting data files: 100%|██████████| 1/1 [00:00<00:00,  5.00it/s]\n",
      "                                                                   \r"
     ]
    },
    {
     "name": "stdout",
     "output_type": "stream",
     "text": [
      "Dataset json downloaded and prepared to /home/cdsw/.cache/rtxszcbtkozty80i/huggingface/datasets/teknium___json/teknium--GPTeacher-General-Instruct-3d3eb51407944fd2/0.0.0/e347ab1c932092252e717ff3f949105a4dd28b27e842dd53157d2f72e276c2e4. Subsequent calls will reuse this data.\n"
     ]
    },
    {
     "name": "stderr",
     "output_type": "stream",
     "text": [
      "                                                                    \r"
     ]
    },
    {
     "name": "stdout",
     "output_type": "stream",
     "text": [
      "Load the base model and tokenizer...\n",
      "\n"
     ]
    },
    {
     "name": "stderr",
     "output_type": "stream",
     "text": [
      "Downloading (…)okenizer_config.json: 100%|██████████| 222/222 [00:00<00:00, 104kB/s]\n",
      "Downloading tokenizer.json: 100%|██████████| 14.5M/14.5M [00:00<00:00, 23.3MB/s]\n",
      "Downloading (…)cial_tokens_map.json: 100%|██████████| 85.0/85.0 [00:00<00:00, 40.2kB/s]\n",
      "Downloading (…)lve/main/config.json: 100%|██████████| 693/693 [00:00<00:00, 328kB/s]\n",
      "/home/cdsw/.local/lib/python3.9/site-packages/transformers/modeling_utils.py:2192: FutureWarning: The `use_auth_token` argument is deprecated and will be removed in v5 of Transformers.\n",
      "  warnings.warn(\n",
      "Downloading model.safetensors: 100%|██████████| 2.13G/2.13G [00:49<00:00, 43.3MB/s]\n"
     ]
    },
    {
     "name": "stdout",
     "output_type": "stream",
     "text": [
      "trainable params: 385505280 || all params: 725575680 || trainable%: 53.1309538930522\n",
      "Begin Training....\n"
     ]
    },
    {
     "name": "stderr",
     "output_type": "stream",
     "text": [
      "You're using a BloomTokenizerFast tokenizer. Please note that with a fast tokenizer, using the `__call__` method is faster than using a method to encode the text followed by a call to the `pad` method to get a padded encoding.\n",
      "[W reducer.cpp:1300] Warning: find_unused_parameters=True was specified in DDP constructor, but did not find any unused parameters in the forward pass. This flag results in an extra traversal of the autograd graph every iteration,  which can adversely affect performance. If your model indeed never has any unused parameters in the forward pass, consider turning this flag off. Note that this warning may be a false positive if your model has flow control causing later iterations to have unused parameters. (function operator())\n"
     ]
    },
    {
     "name": "stdout",
     "output_type": "stream",
     "text": [
      "{'loss': 2.515, 'learning_rate': 0.0002, 'epoch': 0.0}\n",
      "{'loss': 2.461, 'learning_rate': 0.0002, 'epoch': 0.0}\n",
      "{'loss': 2.3954, 'learning_rate': 0.0002, 'epoch': 0.0}\n",
      "{'loss': 2.2648, 'learning_rate': 0.0002, 'epoch': 0.0}\n",
      "{'loss': 2.3503, 'learning_rate': 0.0002, 'epoch': 0.0}\n",
      "{'loss': 2.254, 'learning_rate': 0.0002, 'epoch': 0.0}\n",
      "{'loss': 2.1506, 'learning_rate': 0.0002, 'epoch': 0.0}\n",
      "{'loss': 2.1668, 'learning_rate': 0.0002, 'epoch': 0.0}\n",
      "{'loss': 2.2629, 'learning_rate': 0.0002, 'epoch': 0.0}\n",
      "{'loss': 2.2513, 'learning_rate': 0.0002, 'epoch': 0.0}\n",
      "{'loss': 2.2034, 'learning_rate': 0.0002, 'epoch': 0.0}\n",
      "{'loss': 2.2295, 'learning_rate': 0.0002, 'epoch': 0.0}\n",
      "{'loss': 2.1216, 'learning_rate': 0.0002, 'epoch': 0.0}\n",
      "{'loss': 2.1906, 'learning_rate': 0.0002, 'epoch': 0.0}\n",
      "{'loss': 2.0743, 'learning_rate': 0.0002, 'epoch': 0.0}\n",
      "{'loss': 2.1874, 'learning_rate': 0.0002, 'epoch': 0.0}\n",
      "{'loss': 2.0518, 'learning_rate': 0.0002, 'epoch': 0.01}\n",
      "{'loss': 2.047, 'learning_rate': 0.0002, 'epoch': 0.01}\n",
      "{'loss': 2.0521, 'learning_rate': 0.0002, 'epoch': 0.01}\n",
      "{'loss': 2.0469, 'learning_rate': 0.0002, 'epoch': 0.01}\n",
      "{'loss': 2.1076, 'learning_rate': 0.0002, 'epoch': 0.01}\n",
      "{'loss': 1.9985, 'learning_rate': 0.0002, 'epoch': 0.01}\n",
      "{'loss': 2.0502, 'learning_rate': 0.0002, 'epoch': 0.01}\n",
      "{'loss': 2.1559, 'learning_rate': 0.0002, 'epoch': 0.01}\n",
      "{'loss': 2.1002, 'learning_rate': 0.0002, 'epoch': 0.01}\n",
      "{'loss': 2.0438, 'learning_rate': 0.0002, 'epoch': 0.01}\n",
      "{'loss': 2.0208, 'learning_rate': 0.0002, 'epoch': 0.01}\n",
      "{'loss': 2.0662, 'learning_rate': 0.0002, 'epoch': 0.01}\n",
      "{'loss': 1.9532, 'learning_rate': 0.0002, 'epoch': 0.01}\n",
      "{'loss': 1.9864, 'learning_rate': 0.0002, 'epoch': 0.01}\n",
      "{'loss': 1.9433, 'learning_rate': 0.0002, 'epoch': 0.01}\n",
      "{'loss': 2.025, 'learning_rate': 0.0002, 'epoch': 0.01}\n",
      "{'loss': 1.9506, 'learning_rate': 0.0002, 'epoch': 0.01}\n",
      "{'loss': 1.9912, 'learning_rate': 0.0002, 'epoch': 0.01}\n",
      "{'loss': 2.0978, 'learning_rate': 0.0002, 'epoch': 0.01}\n",
      "{'loss': 2.0383, 'learning_rate': 0.0002, 'epoch': 0.01}\n",
      "{'loss': 2.0713, 'learning_rate': 0.0002, 'epoch': 0.01}\n",
      "{'loss': 2.0164, 'learning_rate': 0.0002, 'epoch': 0.01}\n",
      "{'loss': 2.029, 'learning_rate': 0.0002, 'epoch': 0.01}\n",
      "{'loss': 2.0219, 'learning_rate': 0.0002, 'epoch': 0.01}\n",
      "{'loss': 2.0381, 'learning_rate': 0.0002, 'epoch': 0.01}\n",
      "{'loss': 2.0261, 'learning_rate': 0.0002, 'epoch': 0.01}\n",
      "{'loss': 2.0585, 'learning_rate': 0.0002, 'epoch': 0.01}\n",
      "{'loss': 2.0551, 'learning_rate': 0.0002, 'epoch': 0.01}\n",
      "{'loss': 2.0934, 'learning_rate': 0.0002, 'epoch': 0.01}\n",
      "{'loss': 1.9424, 'learning_rate': 0.0002, 'epoch': 0.01}\n",
      "{'loss': 2.0165, 'learning_rate': 0.0002, 'epoch': 0.01}\n",
      "{'loss': 2.0162, 'learning_rate': 0.0002, 'epoch': 0.01}\n",
      "{'loss': 1.9628, 'learning_rate': 0.0002, 'epoch': 0.01}\n",
      "{'loss': 1.9628, 'learning_rate': 0.0002, 'epoch': 0.01}\n",
      "{'loss': 2.0896, 'learning_rate': 0.0002, 'epoch': 0.02}\n",
      "{'loss': 1.9988, 'learning_rate': 0.0002, 'epoch': 0.02}\n",
      "{'loss': 1.9439, 'learning_rate': 0.0002, 'epoch': 0.02}\n",
      "{'loss': 2.015, 'learning_rate': 0.0002, 'epoch': 0.02}\n",
      "{'loss': 1.986, 'learning_rate': 0.0002, 'epoch': 0.02}\n",
      "{'loss': 1.9578, 'learning_rate': 0.0002, 'epoch': 0.02}\n",
      "{'loss': 2.0394, 'learning_rate': 0.0002, 'epoch': 0.02}\n",
      "{'loss': 1.9787, 'learning_rate': 0.0002, 'epoch': 0.02}\n",
      "{'loss': 2.0603, 'learning_rate': 0.0002, 'epoch': 0.02}\n",
      "{'loss': 2.0506, 'learning_rate': 0.0002, 'epoch': 0.02}\n",
      "{'loss': 1.9384, 'learning_rate': 0.0002, 'epoch': 0.02}\n",
      "{'loss': 2.0192, 'learning_rate': 0.0002, 'epoch': 0.02}\n",
      "{'loss': 1.9649, 'learning_rate': 0.0002, 'epoch': 0.02}\n",
      "{'loss': 1.9875, 'learning_rate': 0.0002, 'epoch': 0.02}\n",
      "{'loss': 1.9947, 'learning_rate': 0.0002, 'epoch': 0.02}\n",
      "{'loss': 2.0569, 'learning_rate': 0.0002, 'epoch': 0.02}\n",
      "{'loss': 1.9845, 'learning_rate': 0.0002, 'epoch': 0.02}\n",
      "{'loss': 2.0833, 'learning_rate': 0.0002, 'epoch': 0.02}\n",
      "{'loss': 1.9138, 'learning_rate': 0.0002, 'epoch': 0.02}\n",
      "{'loss': 1.9673, 'learning_rate': 0.0002, 'epoch': 0.02}\n",
      "{'loss': 2.0073, 'learning_rate': 0.0002, 'epoch': 0.02}\n",
      "{'loss': 1.9188, 'learning_rate': 0.0002, 'epoch': 0.02}\n",
      "{'loss': 2.0086, 'learning_rate': 0.0002, 'epoch': 0.02}\n",
      "{'loss': 1.9055, 'learning_rate': 0.0002, 'epoch': 0.02}\n",
      "{'loss': 2.0198, 'learning_rate': 0.0002, 'epoch': 0.02}\n",
      "{'loss': 1.9448, 'learning_rate': 0.0002, 'epoch': 0.02}\n",
      "{'loss': 1.8596, 'learning_rate': 0.0002, 'epoch': 0.02}\n",
      "{'loss': 1.9997, 'learning_rate': 0.0002, 'epoch': 0.02}\n",
      "{'loss': 1.9125, 'learning_rate': 0.0002, 'epoch': 0.02}\n",
      "{'loss': 2.1113, 'learning_rate': 0.0002, 'epoch': 0.02}\n",
      "{'loss': 1.9687, 'learning_rate': 0.0002, 'epoch': 0.02}\n",
      "{'loss': 1.8333, 'learning_rate': 0.0002, 'epoch': 0.02}\n",
      "{'loss': 1.9942, 'learning_rate': 0.0002, 'epoch': 0.02}\n",
      "{'loss': 1.976, 'learning_rate': 0.0002, 'epoch': 0.03}\n",
      "{'loss': 1.9989, 'learning_rate': 0.0002, 'epoch': 0.03}\n",
      "{'loss': 2.0042, 'learning_rate': 0.0002, 'epoch': 0.03}\n",
      "{'loss': 1.9683, 'learning_rate': 0.0002, 'epoch': 0.03}\n",
      "{'loss': 2.0571, 'learning_rate': 0.0002, 'epoch': 0.03}\n",
      "{'loss': 2.0043, 'learning_rate': 0.0002, 'epoch': 0.03}\n",
      "{'loss': 1.9619, 'learning_rate': 0.0002, 'epoch': 0.03}\n",
      "{'loss': 1.9198, 'learning_rate': 0.0002, 'epoch': 0.03}\n",
      "{'loss': 2.0363, 'learning_rate': 0.0002, 'epoch': 0.03}\n",
      "{'loss': 1.9487, 'learning_rate': 0.0002, 'epoch': 0.03}\n",
      "{'loss': 1.8855, 'learning_rate': 0.0002, 'epoch': 0.03}\n",
      "{'loss': 1.872, 'learning_rate': 0.0002, 'epoch': 0.03}\n",
      "{'loss': 1.9058, 'learning_rate': 0.0002, 'epoch': 0.03}\n",
      "{'loss': 2.0085, 'learning_rate': 0.0002, 'epoch': 0.03}\n",
      "{'loss': 1.9757, 'learning_rate': 0.0002, 'epoch': 0.03}\n",
      "{'loss': 1.9384, 'learning_rate': 0.0002, 'epoch': 0.03}\n",
      "{'loss': 2.0497, 'learning_rate': 0.0002, 'epoch': 0.03}\n",
      "{'loss': 2.024, 'learning_rate': 0.0002, 'epoch': 0.03}\n",
      "{'loss': 1.9615, 'learning_rate': 0.0002, 'epoch': 0.03}\n",
      "{'loss': 2.027, 'learning_rate': 0.0002, 'epoch': 0.03}\n",
      "{'loss': 2.0458, 'learning_rate': 0.0002, 'epoch': 0.03}\n",
      "{'loss': 2.0554, 'learning_rate': 0.0002, 'epoch': 0.03}\n",
      "{'loss': 1.9646, 'learning_rate': 0.0002, 'epoch': 0.03}\n",
      "{'loss': 2.0208, 'learning_rate': 0.0002, 'epoch': 0.03}\n",
      "{'loss': 2.0033, 'learning_rate': 0.0002, 'epoch': 0.03}\n",
      "{'loss': 2.0704, 'learning_rate': 0.0002, 'epoch': 0.03}\n",
      "{'loss': 1.9877, 'learning_rate': 0.0002, 'epoch': 0.03}\n",
      "{'loss': 1.9752, 'learning_rate': 0.0002, 'epoch': 0.03}\n",
      "{'loss': 2.0724, 'learning_rate': 0.0002, 'epoch': 0.03}\n",
      "{'loss': 1.9681, 'learning_rate': 0.0002, 'epoch': 0.03}\n",
      "{'loss': 1.9908, 'learning_rate': 0.0002, 'epoch': 0.03}\n",
      "{'loss': 1.9838, 'learning_rate': 0.0002, 'epoch': 0.03}\n",
      "{'loss': 1.9488, 'learning_rate': 0.0002, 'epoch': 0.03}\n",
      "{'loss': 2.0019, 'learning_rate': 0.0002, 'epoch': 0.03}\n",
      "{'loss': 2.0056, 'learning_rate': 0.0002, 'epoch': 0.04}\n",
      "{'loss': 2.0648, 'learning_rate': 0.0002, 'epoch': 0.04}\n",
      "{'loss': 1.955, 'learning_rate': 0.0002, 'epoch': 0.04}\n",
      "{'loss': 2.0277, 'learning_rate': 0.0002, 'epoch': 0.04}\n",
      "{'loss': 2.0761, 'learning_rate': 0.0002, 'epoch': 0.04}\n",
      "{'loss': 1.9447, 'learning_rate': 0.0002, 'epoch': 0.04}\n",
      "{'loss': 2.0042, 'learning_rate': 0.0002, 'epoch': 0.04}\n",
      "{'loss': 2.0419, 'learning_rate': 0.0002, 'epoch': 0.04}\n",
      "{'loss': 2.0124, 'learning_rate': 0.0002, 'epoch': 0.04}\n",
      "{'loss': 2.0183, 'learning_rate': 0.0002, 'epoch': 0.04}\n",
      "{'loss': 2.0469, 'learning_rate': 0.0002, 'epoch': 0.04}\n",
      "{'loss': 1.9407, 'learning_rate': 0.0002, 'epoch': 0.04}\n",
      "{'loss': 2.0777, 'learning_rate': 0.0002, 'epoch': 0.04}\n",
      "{'loss': 2.0805, 'learning_rate': 0.0002, 'epoch': 0.04}\n",
      "{'loss': 1.9574, 'learning_rate': 0.0002, 'epoch': 0.04}\n",
      "{'loss': 2.0708, 'learning_rate': 0.0002, 'epoch': 0.04}\n",
      "{'loss': 1.9199, 'learning_rate': 0.0002, 'epoch': 0.04}\n",
      "{'loss': 2.1347, 'learning_rate': 0.0002, 'epoch': 0.04}\n",
      "{'loss': 2.0584, 'learning_rate': 0.0002, 'epoch': 0.04}\n",
      "{'loss': 1.9769, 'learning_rate': 0.0002, 'epoch': 0.04}\n",
      "{'loss': 1.9479, 'learning_rate': 0.0002, 'epoch': 0.04}\n",
      "{'loss': 2.0572, 'learning_rate': 0.0002, 'epoch': 0.04}\n",
      "{'loss': 2.0057, 'learning_rate': 0.0002, 'epoch': 0.04}\n",
      "{'loss': 1.9565, 'learning_rate': 0.0002, 'epoch': 0.04}\n",
      "{'loss': 1.9213, 'learning_rate': 0.0002, 'epoch': 0.04}\n",
      "{'loss': 2.0252, 'learning_rate': 0.0002, 'epoch': 0.04}\n",
      "{'loss': 1.9621, 'learning_rate': 0.0002, 'epoch': 0.04}\n",
      "{'loss': 2.0201, 'learning_rate': 0.0002, 'epoch': 0.04}\n",
      "{'loss': 2.0077, 'learning_rate': 0.0002, 'epoch': 0.04}\n",
      "{'loss': 2.0085, 'learning_rate': 0.0002, 'epoch': 0.04}\n",
      "{'loss': 2.041, 'learning_rate': 0.0002, 'epoch': 0.04}\n",
      "{'loss': 1.9334, 'learning_rate': 0.0002, 'epoch': 0.04}\n",
      "{'loss': 2.0311, 'learning_rate': 0.0002, 'epoch': 0.04}\n",
      "{'loss': 1.9864, 'learning_rate': 0.0002, 'epoch': 0.05}\n",
      "{'loss': 1.9937, 'learning_rate': 0.0002, 'epoch': 0.05}\n",
      "{'loss': 2.004, 'learning_rate': 0.0002, 'epoch': 0.05}\n",
      "{'loss': 2.0269, 'learning_rate': 0.0002, 'epoch': 0.05}\n",
      "{'loss': 1.9723, 'learning_rate': 0.0002, 'epoch': 0.05}\n",
      "{'loss': 1.9616, 'learning_rate': 0.0002, 'epoch': 0.05}\n",
      "{'loss': 1.9449, 'learning_rate': 0.0002, 'epoch': 0.05}\n",
      "{'loss': 1.9534, 'learning_rate': 0.0002, 'epoch': 0.05}\n",
      "{'loss': 2.0114, 'learning_rate': 0.0002, 'epoch': 0.05}\n",
      "{'loss': 2.0168, 'learning_rate': 0.0002, 'epoch': 0.05}\n",
      "{'loss': 1.9433, 'learning_rate': 0.0002, 'epoch': 0.05}\n",
      "{'loss': 1.97, 'learning_rate': 0.0002, 'epoch': 0.05}\n",
      "{'loss': 1.9683, 'learning_rate': 0.0002, 'epoch': 0.05}\n",
      "{'loss': 2.0771, 'learning_rate': 0.0002, 'epoch': 0.05}\n",
      "{'loss': 2.0252, 'learning_rate': 0.0002, 'epoch': 0.05}\n",
      "{'loss': 1.9051, 'learning_rate': 0.0002, 'epoch': 0.05}\n",
      "{'loss': 1.978, 'learning_rate': 0.0002, 'epoch': 0.05}\n",
      "{'loss': 2.0472, 'learning_rate': 0.0002, 'epoch': 0.05}\n",
      "{'loss': 1.9877, 'learning_rate': 0.0002, 'epoch': 0.05}\n",
      "{'loss': 2.1028, 'learning_rate': 0.0002, 'epoch': 0.05}\n",
      "{'loss': 1.9846, 'learning_rate': 0.0002, 'epoch': 0.05}\n",
      "{'loss': 1.9922, 'learning_rate': 0.0002, 'epoch': 0.05}\n",
      "{'loss': 1.9406, 'learning_rate': 0.0002, 'epoch': 0.05}\n",
      "{'loss': 1.9629, 'learning_rate': 0.0002, 'epoch': 0.05}\n",
      "{'loss': 1.9555, 'learning_rate': 0.0002, 'epoch': 0.05}\n",
      "{'loss': 1.9435, 'learning_rate': 0.0002, 'epoch': 0.05}\n",
      "{'loss': 1.9522, 'learning_rate': 0.0002, 'epoch': 0.05}\n",
      "{'loss': 1.99, 'learning_rate': 0.0002, 'epoch': 0.05}\n",
      "{'loss': 1.9298, 'learning_rate': 0.0002, 'epoch': 0.05}\n",
      "{'loss': 2.038, 'learning_rate': 0.0002, 'epoch': 0.05}\n",
      "{'loss': 2.0008, 'learning_rate': 0.0002, 'epoch': 0.05}\n",
      "{'loss': 1.8614, 'learning_rate': 0.0002, 'epoch': 0.05}\n",
      "{'loss': 2.0732, 'learning_rate': 0.0002, 'epoch': 0.05}\n",
      "{'loss': 2.0024, 'learning_rate': 0.0002, 'epoch': 0.05}\n",
      "{'loss': 1.9848, 'learning_rate': 0.0002, 'epoch': 0.06}\n",
      "{'loss': 1.9762, 'learning_rate': 0.0002, 'epoch': 0.06}\n",
      "{'loss': 1.93, 'learning_rate': 0.0002, 'epoch': 0.06}\n",
      "{'loss': 1.9703, 'learning_rate': 0.0002, 'epoch': 0.06}\n",
      "{'loss': 1.8771, 'learning_rate': 0.0002, 'epoch': 0.06}\n",
      "{'loss': 1.9556, 'learning_rate': 0.0002, 'epoch': 0.06}\n",
      "{'loss': 1.9099, 'learning_rate': 0.0002, 'epoch': 0.06}\n",
      "{'loss': 2.0413, 'learning_rate': 0.0002, 'epoch': 0.06}\n",
      "{'loss': 2.0797, 'learning_rate': 0.0002, 'epoch': 0.06}\n",
      "{'loss': 1.9798, 'learning_rate': 0.0002, 'epoch': 0.06}\n",
      "{'loss': 2.0219, 'learning_rate': 0.0002, 'epoch': 0.06}\n",
      "{'loss': 1.9734, 'learning_rate': 0.0002, 'epoch': 0.06}\n",
      "{'loss': 1.9712, 'learning_rate': 0.0002, 'epoch': 0.06}\n",
      "{'loss': 1.9253, 'learning_rate': 0.0002, 'epoch': 0.06}\n",
      "{'loss': 2.0046, 'learning_rate': 0.0002, 'epoch': 0.06}\n",
      "{'loss': 1.9014, 'learning_rate': 0.0002, 'epoch': 0.06}\n",
      "{'loss': 1.9672, 'learning_rate': 0.0002, 'epoch': 0.06}\n",
      "{'loss': 2.0283, 'learning_rate': 0.0002, 'epoch': 0.06}\n",
      "{'loss': 1.945, 'learning_rate': 0.0002, 'epoch': 0.06}\n",
      "{'loss': 1.9819, 'learning_rate': 0.0002, 'epoch': 0.06}\n",
      "{'loss': 2.0588, 'learning_rate': 0.0002, 'epoch': 0.06}\n",
      "{'loss': 1.9878, 'learning_rate': 0.0002, 'epoch': 0.06}\n",
      "{'loss': 1.9484, 'learning_rate': 0.0002, 'epoch': 0.06}\n",
      "{'loss': 1.9289, 'learning_rate': 0.0002, 'epoch': 0.06}\n",
      "{'loss': 1.9128, 'learning_rate': 0.0002, 'epoch': 0.06}\n",
      "{'loss': 1.9434, 'learning_rate': 0.0002, 'epoch': 0.06}\n",
      "{'loss': 1.978, 'learning_rate': 0.0002, 'epoch': 0.06}\n",
      "{'loss': 1.9895, 'learning_rate': 0.0002, 'epoch': 0.06}\n",
      "{'loss': 1.9234, 'learning_rate': 0.0002, 'epoch': 0.06}\n",
      "{'loss': 1.9276, 'learning_rate': 0.0002, 'epoch': 0.06}\n",
      "{'loss': 2.0262, 'learning_rate': 0.0002, 'epoch': 0.06}\n",
      "{'loss': 1.969, 'learning_rate': 0.0002, 'epoch': 0.06}\n",
      "{'loss': 2.0349, 'learning_rate': 0.0002, 'epoch': 0.06}\n",
      "{'loss': 2.0294, 'learning_rate': 0.0002, 'epoch': 0.07}\n",
      "{'loss': 1.9927, 'learning_rate': 0.0002, 'epoch': 0.07}\n",
      "{'loss': 1.9337, 'learning_rate': 0.0002, 'epoch': 0.07}\n",
      "{'loss': 2.0267, 'learning_rate': 0.0002, 'epoch': 0.07}\n",
      "{'loss': 2.013, 'learning_rate': 0.0002, 'epoch': 0.07}\n",
      "{'loss': 2.0509, 'learning_rate': 0.0002, 'epoch': 0.07}\n",
      "{'loss': 2.055, 'learning_rate': 0.0002, 'epoch': 0.07}\n",
      "{'loss': 1.947, 'learning_rate': 0.0002, 'epoch': 0.07}\n",
      "{'loss': 2.0557, 'learning_rate': 0.0002, 'epoch': 0.07}\n",
      "{'loss': 2.0433, 'learning_rate': 0.0002, 'epoch': 0.07}\n",
      "{'loss': 2.0062, 'learning_rate': 0.0002, 'epoch': 0.07}\n",
      "{'loss': 1.9491, 'learning_rate': 0.0002, 'epoch': 0.07}\n",
      "{'loss': 1.9512, 'learning_rate': 0.0002, 'epoch': 0.07}\n",
      "{'loss': 1.9387, 'learning_rate': 0.0002, 'epoch': 0.07}\n",
      "{'loss': 1.9354, 'learning_rate': 0.0002, 'epoch': 0.07}\n",
      "{'loss': 2.0035, 'learning_rate': 0.0002, 'epoch': 0.07}\n",
      "{'loss': 1.9496, 'learning_rate': 0.0002, 'epoch': 0.07}\n",
      "{'loss': 1.9931, 'learning_rate': 0.0002, 'epoch': 0.07}\n",
      "{'loss': 1.9659, 'learning_rate': 0.0002, 'epoch': 0.07}\n",
      "{'loss': 1.9914, 'learning_rate': 0.0002, 'epoch': 0.07}\n",
      "{'loss': 2.0315, 'learning_rate': 0.0002, 'epoch': 0.07}\n",
      "{'loss': 1.9994, 'learning_rate': 0.0002, 'epoch': 0.07}\n",
      "{'loss': 2.0967, 'learning_rate': 0.0002, 'epoch': 0.07}\n",
      "{'loss': 1.957, 'learning_rate': 0.0002, 'epoch': 0.07}\n",
      "{'loss': 1.9776, 'learning_rate': 0.0002, 'epoch': 0.07}\n",
      "{'loss': 1.9895, 'learning_rate': 0.0002, 'epoch': 0.07}\n",
      "{'loss': 2.0338, 'learning_rate': 0.0002, 'epoch': 0.07}\n",
      "{'loss': 1.9883, 'learning_rate': 0.0002, 'epoch': 0.07}\n",
      "{'loss': 1.9296, 'learning_rate': 0.0002, 'epoch': 0.07}\n",
      "{'loss': 1.9786, 'learning_rate': 0.0002, 'epoch': 0.07}\n",
      "{'loss': 1.9813, 'learning_rate': 0.0002, 'epoch': 0.07}\n",
      "{'loss': 1.9438, 'learning_rate': 0.0002, 'epoch': 0.07}\n",
      "{'loss': 2.0035, 'learning_rate': 0.0002, 'epoch': 0.07}\n",
      "{'loss': 2.0231, 'learning_rate': 0.0002, 'epoch': 0.07}\n",
      "{'loss': 1.9865, 'learning_rate': 0.0002, 'epoch': 0.08}\n",
      "{'loss': 2.0395, 'learning_rate': 0.0002, 'epoch': 0.08}\n",
      "{'loss': 1.9829, 'learning_rate': 0.0002, 'epoch': 0.08}\n",
      "{'loss': 2.0554, 'learning_rate': 0.0002, 'epoch': 0.08}\n",
      "{'loss': 1.975, 'learning_rate': 0.0002, 'epoch': 0.08}\n",
      "{'loss': 1.9841, 'learning_rate': 0.0002, 'epoch': 0.08}\n",
      "{'loss': 2.075, 'learning_rate': 0.0002, 'epoch': 0.08}\n",
      "{'loss': 1.9355, 'learning_rate': 0.0002, 'epoch': 0.08}\n",
      "{'loss': 1.9325, 'learning_rate': 0.0002, 'epoch': 0.08}\n",
      "{'loss': 1.999, 'learning_rate': 0.0002, 'epoch': 0.08}\n",
      "{'loss': 1.9047, 'learning_rate': 0.0002, 'epoch': 0.08}\n",
      "{'loss': 1.9511, 'learning_rate': 0.0002, 'epoch': 0.08}\n",
      "{'loss': 1.9272, 'learning_rate': 0.0002, 'epoch': 0.08}\n",
      "{'loss': 1.9257, 'learning_rate': 0.0002, 'epoch': 0.08}\n",
      "{'loss': 2.0033, 'learning_rate': 0.0002, 'epoch': 0.08}\n",
      "{'loss': 1.9746, 'learning_rate': 0.0002, 'epoch': 0.08}\n",
      "{'loss': 2.0219, 'learning_rate': 0.0002, 'epoch': 0.08}\n",
      "{'loss': 1.949, 'learning_rate': 0.0002, 'epoch': 0.08}\n",
      "{'loss': 1.9666, 'learning_rate': 0.0002, 'epoch': 0.08}\n",
      "{'loss': 1.9789, 'learning_rate': 0.0002, 'epoch': 0.08}\n",
      "{'loss': 2.0053, 'learning_rate': 0.0002, 'epoch': 0.08}\n",
      "{'loss': 1.9719, 'learning_rate': 0.0002, 'epoch': 0.08}\n",
      "{'loss': 1.9929, 'learning_rate': 0.0002, 'epoch': 0.08}\n",
      "{'loss': 2.0028, 'learning_rate': 0.0002, 'epoch': 0.08}\n",
      "{'loss': 2.0309, 'learning_rate': 0.0002, 'epoch': 0.08}\n",
      "{'loss': 1.8578, 'learning_rate': 0.0002, 'epoch': 0.08}\n",
      "{'loss': 1.9499, 'learning_rate': 0.0002, 'epoch': 0.08}\n",
      "{'loss': 2.0366, 'learning_rate': 0.0002, 'epoch': 0.08}\n",
      "{'loss': 2.0157, 'learning_rate': 0.0002, 'epoch': 0.08}\n",
      "{'loss': 1.9231, 'learning_rate': 0.0002, 'epoch': 0.08}\n",
      "{'loss': 1.9044, 'learning_rate': 0.0002, 'epoch': 0.08}\n",
      "{'loss': 2.004, 'learning_rate': 0.0002, 'epoch': 0.08}\n",
      "{'loss': 1.9178, 'learning_rate': 0.0002, 'epoch': 0.08}\n",
      "{'loss': 1.9974, 'learning_rate': 0.0002, 'epoch': 0.09}\n",
      "{'loss': 1.9886, 'learning_rate': 0.0002, 'epoch': 0.09}\n",
      "{'loss': 1.8705, 'learning_rate': 0.0002, 'epoch': 0.09}\n",
      "{'loss': 1.8745, 'learning_rate': 0.0002, 'epoch': 0.09}\n",
      "{'loss': 1.9018, 'learning_rate': 0.0002, 'epoch': 0.09}\n",
      "{'loss': 1.9483, 'learning_rate': 0.0002, 'epoch': 0.09}\n",
      "{'loss': 1.8973, 'learning_rate': 0.0002, 'epoch': 0.09}\n",
      "{'loss': 1.8373, 'learning_rate': 0.0002, 'epoch': 0.09}\n",
      "{'loss': 1.8662, 'learning_rate': 0.0002, 'epoch': 0.09}\n",
      "{'loss': 1.9037, 'learning_rate': 0.0002, 'epoch': 0.09}\n",
      "{'loss': 1.9164, 'learning_rate': 0.0002, 'epoch': 0.09}\n",
      "{'loss': 1.8508, 'learning_rate': 0.0002, 'epoch': 0.09}\n",
      "{'loss': 1.9132, 'learning_rate': 0.0002, 'epoch': 0.09}\n",
      "{'loss': 1.8533, 'learning_rate': 0.0002, 'epoch': 0.09}\n",
      "{'loss': 1.8381, 'learning_rate': 0.0002, 'epoch': 0.09}\n",
      "{'loss': 1.8091, 'learning_rate': 0.0002, 'epoch': 0.09}\n",
      "{'loss': 1.8203, 'learning_rate': 0.0002, 'epoch': 0.09}\n",
      "{'loss': 1.8304, 'learning_rate': 0.0002, 'epoch': 0.09}\n",
      "{'loss': 1.8854, 'learning_rate': 0.0002, 'epoch': 0.09}\n",
      "{'loss': 1.8822, 'learning_rate': 0.0002, 'epoch': 0.09}\n",
      "{'loss': 1.8351, 'learning_rate': 0.0002, 'epoch': 0.09}\n",
      "{'loss': 1.9274, 'learning_rate': 0.0002, 'epoch': 0.09}\n",
      "{'loss': 1.7775, 'learning_rate': 0.0002, 'epoch': 0.09}\n",
      "{'loss': 1.8959, 'learning_rate': 0.0002, 'epoch': 0.09}\n",
      "{'loss': 1.8694, 'learning_rate': 0.0002, 'epoch': 0.09}\n",
      "{'loss': 1.7905, 'learning_rate': 0.0002, 'epoch': 0.09}\n",
      "{'loss': 1.8695, 'learning_rate': 0.0002, 'epoch': 0.09}\n",
      "{'loss': 1.8668, 'learning_rate': 0.0002, 'epoch': 0.09}\n",
      "{'loss': 1.8903, 'learning_rate': 0.0002, 'epoch': 0.09}\n",
      "{'loss': 1.8085, 'learning_rate': 0.0002, 'epoch': 0.09}\n",
      "{'loss': 1.9155, 'learning_rate': 0.0002, 'epoch': 0.09}\n",
      "{'loss': 1.8388, 'learning_rate': 0.0002, 'epoch': 0.09}\n",
      "{'loss': 1.8443, 'learning_rate': 0.0002, 'epoch': 0.09}\n",
      "{'loss': 1.8258, 'learning_rate': 0.0002, 'epoch': 0.1}\n",
      "{'loss': 1.8879, 'learning_rate': 0.0002, 'epoch': 0.1}\n",
      "{'loss': 1.7809, 'learning_rate': 0.0002, 'epoch': 0.1}\n",
      "{'loss': 1.9428, 'learning_rate': 0.0002, 'epoch': 0.1}\n",
      "{'loss': 1.8805, 'learning_rate': 0.0002, 'epoch': 0.1}\n",
      "{'loss': 1.9, 'learning_rate': 0.0002, 'epoch': 0.1}\n",
      "{'loss': 1.8982, 'learning_rate': 0.0002, 'epoch': 0.1}\n",
      "{'loss': 1.859, 'learning_rate': 0.0002, 'epoch': 0.1}\n",
      "{'loss': 1.8336, 'learning_rate': 0.0002, 'epoch': 0.1}\n",
      "{'loss': 1.9774, 'learning_rate': 0.0002, 'epoch': 0.1}\n",
      "{'loss': 1.9173, 'learning_rate': 0.0002, 'epoch': 0.1}\n",
      "{'loss': 1.9325, 'learning_rate': 0.0002, 'epoch': 0.1}\n",
      "{'loss': 1.783, 'learning_rate': 0.0002, 'epoch': 0.1}\n",
      "{'loss': 1.9244, 'learning_rate': 0.0002, 'epoch': 0.1}\n",
      "{'loss': 1.9097, 'learning_rate': 0.0002, 'epoch': 0.1}\n",
      "{'loss': 1.9293, 'learning_rate': 0.0002, 'epoch': 0.1}\n",
      "{'loss': 1.9564, 'learning_rate': 0.0002, 'epoch': 0.1}\n",
      "{'loss': 1.8801, 'learning_rate': 0.0002, 'epoch': 0.1}\n",
      "{'loss': 1.9155, 'learning_rate': 0.0002, 'epoch': 0.1}\n",
      "{'loss': 1.7869, 'learning_rate': 0.0002, 'epoch': 0.1}\n",
      "{'loss': 1.8329, 'learning_rate': 0.0002, 'epoch': 0.1}\n",
      "{'loss': 1.861, 'learning_rate': 0.0002, 'epoch': 0.1}\n",
      "{'loss': 1.9346, 'learning_rate': 0.0002, 'epoch': 0.1}\n",
      "{'loss': 1.8686, 'learning_rate': 0.0002, 'epoch': 0.1}\n",
      "{'loss': 1.8694, 'learning_rate': 0.0002, 'epoch': 0.1}\n",
      "{'loss': 2.0007, 'learning_rate': 0.0002, 'epoch': 0.1}\n",
      "{'loss': 1.8512, 'learning_rate': 0.0002, 'epoch': 0.1}\n",
      "{'loss': 1.7893, 'learning_rate': 0.0002, 'epoch': 0.1}\n",
      "{'loss': 1.8577, 'learning_rate': 0.0002, 'epoch': 0.1}\n",
      "{'loss': 1.8747, 'learning_rate': 0.0002, 'epoch': 0.1}\n",
      "{'loss': 1.923, 'learning_rate': 0.0002, 'epoch': 0.1}\n",
      "{'loss': 1.9308, 'learning_rate': 0.0002, 'epoch': 0.1}\n",
      "{'loss': 1.81, 'learning_rate': 0.0002, 'epoch': 0.1}\n",
      "{'loss': 1.8944, 'learning_rate': 0.0002, 'epoch': 0.1}\n",
      "{'loss': 1.8128, 'learning_rate': 0.0002, 'epoch': 0.11}\n",
      "{'loss': 1.9354, 'learning_rate': 0.0002, 'epoch': 0.11}\n",
      "{'loss': 1.9148, 'learning_rate': 0.0002, 'epoch': 0.11}\n",
      "{'loss': 1.8563, 'learning_rate': 0.0002, 'epoch': 0.11}\n",
      "{'loss': 1.9112, 'learning_rate': 0.0002, 'epoch': 0.11}\n",
      "{'loss': 1.8117, 'learning_rate': 0.0002, 'epoch': 0.11}\n",
      "{'loss': 1.9411, 'learning_rate': 0.0002, 'epoch': 0.11}\n",
      "{'loss': 1.9115, 'learning_rate': 0.0002, 'epoch': 0.11}\n",
      "{'loss': 1.8834, 'learning_rate': 0.0002, 'epoch': 0.11}\n",
      "{'loss': 1.8035, 'learning_rate': 0.0002, 'epoch': 0.11}\n",
      "{'loss': 1.8483, 'learning_rate': 0.0002, 'epoch': 0.11}\n",
      "{'loss': 1.9226, 'learning_rate': 0.0002, 'epoch': 0.11}\n",
      "{'loss': 1.912, 'learning_rate': 0.0002, 'epoch': 0.11}\n",
      "{'loss': 1.8213, 'learning_rate': 0.0002, 'epoch': 0.11}\n",
      "{'loss': 1.8958, 'learning_rate': 0.0002, 'epoch': 0.11}\n",
      "{'loss': 1.7934, 'learning_rate': 0.0002, 'epoch': 0.11}\n",
      "{'loss': 1.8768, 'learning_rate': 0.0002, 'epoch': 0.11}\n",
      "{'loss': 1.9908, 'learning_rate': 0.0002, 'epoch': 0.11}\n",
      "{'loss': 1.8216, 'learning_rate': 0.0002, 'epoch': 0.11}\n",
      "{'loss': 1.8635, 'learning_rate': 0.0002, 'epoch': 0.11}\n",
      "{'loss': 1.8412, 'learning_rate': 0.0002, 'epoch': 0.11}\n",
      "{'loss': 1.8266, 'learning_rate': 0.0002, 'epoch': 0.11}\n",
      "{'loss': 1.8175, 'learning_rate': 0.0002, 'epoch': 0.11}\n",
      "{'loss': 1.9034, 'learning_rate': 0.0002, 'epoch': 0.11}\n",
      "{'loss': 1.8575, 'learning_rate': 0.0002, 'epoch': 0.11}\n",
      "{'loss': 1.7536, 'learning_rate': 0.0002, 'epoch': 0.11}\n",
      "{'loss': 1.8127, 'learning_rate': 0.0002, 'epoch': 0.11}\n",
      "{'loss': 1.8039, 'learning_rate': 0.0002, 'epoch': 0.11}\n",
      "{'loss': 1.857, 'learning_rate': 0.0002, 'epoch': 0.11}\n",
      "{'loss': 1.9138, 'learning_rate': 0.0002, 'epoch': 0.11}\n",
      "{'loss': 1.9915, 'learning_rate': 0.0002, 'epoch': 0.11}\n",
      "{'loss': 1.8897, 'learning_rate': 0.0002, 'epoch': 0.11}\n",
      "{'loss': 1.9248, 'learning_rate': 0.0002, 'epoch': 0.11}\n",
      "{'loss': 1.9432, 'learning_rate': 0.0002, 'epoch': 0.12}\n",
      "{'loss': 1.9161, 'learning_rate': 0.0002, 'epoch': 0.12}\n",
      "{'loss': 1.8716, 'learning_rate': 0.0002, 'epoch': 0.12}\n",
      "{'loss': 1.899, 'learning_rate': 0.0002, 'epoch': 0.12}\n",
      "{'loss': 1.843, 'learning_rate': 0.0002, 'epoch': 0.12}\n",
      "{'loss': 1.8838, 'learning_rate': 0.0002, 'epoch': 0.12}\n",
      "{'loss': 1.9457, 'learning_rate': 0.0002, 'epoch': 0.12}\n",
      "{'loss': 1.8693, 'learning_rate': 0.0002, 'epoch': 0.12}\n",
      "{'loss': 1.9083, 'learning_rate': 0.0002, 'epoch': 0.12}\n",
      "{'loss': 1.9484, 'learning_rate': 0.0002, 'epoch': 0.12}\n",
      "{'loss': 1.8886, 'learning_rate': 0.0002, 'epoch': 0.12}\n",
      "{'loss': 1.8839, 'learning_rate': 0.0002, 'epoch': 0.12}\n",
      "{'loss': 1.8609, 'learning_rate': 0.0002, 'epoch': 0.12}\n",
      "{'loss': 1.856, 'learning_rate': 0.0002, 'epoch': 0.12}\n",
      "{'loss': 1.9892, 'learning_rate': 0.0002, 'epoch': 0.12}\n",
      "{'loss': 1.9705, 'learning_rate': 0.0002, 'epoch': 0.12}\n",
      "{'loss': 1.9352, 'learning_rate': 0.0002, 'epoch': 0.12}\n",
      "{'loss': 1.893, 'learning_rate': 0.0002, 'epoch': 0.12}\n",
      "{'loss': 1.8628, 'learning_rate': 0.0002, 'epoch': 0.12}\n",
      "{'loss': 1.8272, 'learning_rate': 0.0002, 'epoch': 0.12}\n",
      "{'loss': 2.0238, 'learning_rate': 0.0002, 'epoch': 0.12}\n",
      "{'loss': 1.8652, 'learning_rate': 0.0002, 'epoch': 0.12}\n",
      "{'loss': 1.9477, 'learning_rate': 0.0002, 'epoch': 0.12}\n",
      "{'loss': 1.8885, 'learning_rate': 0.0002, 'epoch': 0.12}\n",
      "{'loss': 1.9112, 'learning_rate': 0.0002, 'epoch': 0.12}\n",
      "{'loss': 1.96, 'learning_rate': 0.0002, 'epoch': 0.12}\n",
      "{'loss': 1.9088, 'learning_rate': 0.0002, 'epoch': 0.12}\n",
      "{'loss': 1.8932, 'learning_rate': 0.0002, 'epoch': 0.12}\n",
      "{'loss': 1.9623, 'learning_rate': 0.0002, 'epoch': 0.12}\n",
      "{'loss': 1.9504, 'learning_rate': 0.0002, 'epoch': 0.12}\n",
      "{'loss': 1.8671, 'learning_rate': 0.0002, 'epoch': 0.12}\n",
      "{'loss': 1.9584, 'learning_rate': 0.0002, 'epoch': 0.12}\n",
      "{'loss': 1.8074, 'learning_rate': 0.0002, 'epoch': 0.12}\n",
      "{'loss': 1.9029, 'learning_rate': 0.0002, 'epoch': 0.12}\n",
      "{'loss': 1.9138, 'learning_rate': 0.0002, 'epoch': 0.13}\n",
      "{'loss': 1.9553, 'learning_rate': 0.0002, 'epoch': 0.13}\n",
      "{'loss': 1.8579, 'learning_rate': 0.0002, 'epoch': 0.13}\n",
      "{'loss': 1.8557, 'learning_rate': 0.0002, 'epoch': 0.13}\n",
      "{'loss': 1.9683, 'learning_rate': 0.0002, 'epoch': 0.13}\n",
      "{'loss': 1.8667, 'learning_rate': 0.0002, 'epoch': 0.13}\n",
      "{'train_runtime': 436.4966, 'train_samples_per_second': 61.348, 'train_steps_per_second': 7.668, 'train_loss': 1.9677815636233338, 'epoch': 0.13}\n",
      "Training Complete!\n"
     ]
    },
    {
     "data": {
      "text/plain": [
       "(None, None)"
      ]
     },
     "execution_count": 6,
     "metadata": {},
     "output_type": "execute_result"
    }
   ],
   "source": [
    "try:\n",
    "    # Launch workers when using CML\n",
    "    from cml.workers_v1 import launch_workers\n",
    "except ImportError:\n",
    "    # Launch workers when using CDSW\n",
    "    from cdsw import launch_workers\n",
    "import subprocess\n",
    "\n",
    "\n",
    "# Picking CPU and MEM profile\n",
    "worker_cpu = 2\n",
    "worker_memory = 8\n",
    "\n",
    "# if changing worker_gpu here, also change gpu_ids in accelerate_multi_config.yaml.tmpl\n",
    "worker_gpu = 1\n",
    "\n",
    "for i in range(NUM_WORKERS):\n",
    "    # Each accelerate launch requires different configuration\n",
    "    config_path = Template(config_path_tmpl).substitute(WORKER=i)\n",
    "    \n",
    "    # See top of notebook for where train_script comes from\n",
    "    command = Template(command_tmpl).substitute(CONF_PATH=config_path, TRAIN_SCRIPT=train_script)\n",
    "\n",
    "    # Wrapping execution into subprocess for convenience in this notebook, but this could be done manually or via CML Jobs\n",
    "    # If worker num 0 this is the main process and should run locally in this session\n",
    "    if i == 0:\n",
    "        print(\"Launch accelerate locally (this session acts as worker of rank 1 aka main worker)...\")\n",
    "        print(\"\\t Command: [%s]\" % command)\n",
    "        main_cmd = subprocess.Popen([f'bash -c \"{command}\" '], shell=True)\n",
    "\n",
    "    # All other accelerate launches will use rank 1+\n",
    "    else:\n",
    "        print((\"Launch CML worker and launch accelerate within them ...\"))\n",
    "        print(\"\\t Command: [%s]\" % command)\n",
    "        launch_workers(name=f'LoRA Train Worker {i}', n=1, cpu=worker_cpu, memory=worker_memory, nvidia_gpu = worker_gpu,  code=\"!\"+command + \" &> /dev/null\")\n",
    "\n",
    "# Waiting for all subworkers to ready up...\n",
    "main_cmd.communicate()"
   ]
  },
  {
   "cell_type": "markdown",
   "id": "f12a7904",
   "metadata": {},
   "source": [
    "## Done!\n",
    "Your fine-tuned adapter is located in /home/cdsw/adapters/bloom1b1-lora-instruct"
   ]
  },
  {
   "cell_type": "markdown",
   "id": "3db84cda",
   "metadata": {},
   "source": [
    "## Part 3: Inference Comparison (Base Model vs Base Model + Adapter)"
   ]
  },
  {
   "cell_type": "markdown",
   "id": "6b6cc587",
   "metadata": {},
   "source": [
    "### Load base model and tokenizer"
   ]
  },
  {
   "cell_type": "code",
   "execution_count": 7,
   "id": "9091a90b",
   "metadata": {},
   "outputs": [
    {
     "name": "stderr",
     "output_type": "stream",
     "text": [
      "/home/cdsw/.local/lib/python3.9/site-packages/tqdm/auto.py:21: TqdmWarning: IProgress not found. Please update jupyter and ipywidgets. See https://ipywidgets.readthedocs.io/en/stable/user_install.html\n",
      "  from .autonotebook import tqdm as notebook_tqdm\n"
     ]
    },
    {
     "name": "stdout",
     "output_type": "stream",
     "text": [
      "\n",
      "===================================BUG REPORT===================================\n",
      "Welcome to bitsandbytes. For bug reports, please run\n",
      "\n",
      "python -m bitsandbytes\n",
      "\n",
      " and submit this information together with your error trace to: https://github.com/TimDettmers/bitsandbytes/issues\n",
      "================================================================================\n",
      "bin /home/cdsw/.local/lib/python3.9/site-packages/bitsandbytes/libbitsandbytes_cuda118_nocublaslt.so\n",
      "CUDA SETUP: CUDA runtime path found: /usr/local/cuda/lib64/libcudart.so\n",
      "CUDA SETUP: Highest compute capability among GPUs detected: 7.0\n",
      "CUDA SETUP: Detected CUDA version 118\n",
      "CUDA SETUP: Loading binary /home/cdsw/.local/lib/python3.9/site-packages/bitsandbytes/libbitsandbytes_cuda118_nocublaslt.so...\n"
     ]
    },
    {
     "name": "stderr",
     "output_type": "stream",
     "text": [
      "/home/cdsw/.local/lib/python3.9/site-packages/bitsandbytes/cuda_setup/main.py:149: UserWarning: WARNING: The following directories listed in your path were found to be non-existent: {PosixPath('/usr/local/nvidia/lib'), PosixPath('/usr/local/cuda/lib'), PosixPath('/usr/local/nvidia/lib64')}\n",
      "  warn(msg)\n",
      "/home/cdsw/.local/lib/python3.9/site-packages/bitsandbytes/cuda_setup/main.py:149: UserWarning: WARNING: Compute capability < 7.5 detected! Only slow 8-bit matmul is supported for your GPU!\n",
      "  warn(msg)\n"
     ]
    }
   ],
   "source": [
    "from peft import PeftModel\n",
    "from transformers import AutoTokenizer, AutoModelForCausalLM\n",
    "model = AutoModelForCausalLM.from_pretrained(\"bigscience/bloom-1b1\", return_dict=True, device_map='cuda')\n",
    "tokenizer = AutoTokenizer.from_pretrained(\"bigscience/bloom-1b1\")"
   ]
  },
  {
   "cell_type": "markdown",
   "id": "9fd3cc92",
   "metadata": {},
   "source": [
    "### Load the fine-tuned adapter for use with the base model"
   ]
  },
  {
   "cell_type": "code",
   "execution_count": 9,
   "id": "5853d74a",
   "metadata": {},
   "outputs": [],
   "source": [
    "\n",
    "model = PeftModel.from_pretrained(model=model,                                                 # The base model to load fine-tuned adapters with\n",
    "                                  model_id=\"/home/cdsw/adapters/bloom1b1-lora-instruct\",       # The directory path of the fine-tuned adapater built in Part 1\n",
    "                                  adapter_name=\"bloom1b1-lora-instruct\",              # A label for this adapter to enable and disable on demand later\n",
    ")"
   ]
  },
  {
   "cell_type": "markdown",
   "id": "449dbde0",
   "metadata": {},
   "source": [
    "### Define an instruction-following test prompt"
   ]
  },
  {
   "cell_type": "code",
   "execution_count": 10,
   "id": "57498fbe",
   "metadata": {},
   "outputs": [],
   "source": [
    "prompt = \"\"\"<Instruction>: Classify the following items into two categories: fruits and vegetables.\n",
    "<Input>: tomato, apple, cucumber, carrot, banana, zucchini, strawberry, cauliflower\n",
    "<Response>:\"\"\"\n",
    "batch = tokenizer(prompt, return_tensors='pt')\n",
    "batch = batch.to('cuda')"
   ]
  },
  {
   "cell_type": "markdown",
   "id": "e27b625a",
   "metadata": {},
   "source": [
    "#### Base Model Response"
   ]
  },
  {
   "cell_type": "code",
   "execution_count": 12,
   "id": "1b9df26b",
   "metadata": {},
   "outputs": [
    {
     "name": "stdout",
     "output_type": "stream",
     "text": [
      " green, yellow, red, orange, red, yellow, green, blue, yellow, red, orange, red, yellow, green, blue, yellow, red, orange, red, yellow, green, blue, yellow, red, orange, red, yellow, green, blue, yellow,\n"
     ]
    }
   ],
   "source": [
    "# Inference with base model only:\n",
    "import torch\n",
    "with model.disable_adapter():\n",
    "    with torch.cuda.amp.autocast():\n",
    "        output_tokens = model.generate(**batch, max_new_tokens=60)\n",
    "    prompt_length = len(prompt)\n",
    "    print(tokenizer.decode(output_tokens[0], skip_special_tokens=True)[prompt_length:])"
   ]
  },
  {
   "cell_type": "markdown",
   "id": "716c588e",
   "metadata": {},
   "source": [
    "^ The base model shows no ability to follow instructions in the promp"
   ]
  },
  {
   "cell_type": "markdown",
   "id": "abc78eb9",
   "metadata": {},
   "source": [
    "#### Fine-tuned adapter Response"
   ]
  },
  {
   "cell_type": "code",
   "execution_count": 13,
   "id": "5cbeff01",
   "metadata": {},
   "outputs": [
    {
     "name": "stdout",
     "output_type": "stream",
     "text": [
      " Fruits: Tomato, Apple, Cucumber, Carrot, Banana, Zucchini, Strawberry, Cauliflower. Vegetables: Tomato, Apple, Cucumber, Carrot, Banana, Zucchini, Strawberry, Cauliflower\n"
     ]
    }
   ],
   "source": [
    "# Inference with fine-tuned adapter:\n",
    "model.set_adapter(\"bloom1b1-lora-instruct\")\n",
    "with torch.cuda.amp.autocast():\n",
    "    output_tokens = model.generate(**batch, max_new_tokens=60)\n",
    "prompt_length = len(prompt)\n",
    "print(tokenizer.decode(output_tokens[0], skip_special_tokens=True)[prompt_length:])"
   ]
  },
  {
   "cell_type": "markdown",
   "id": "8d5b7ffd",
   "metadata": {},
   "source": [
    "^ This is not a perfect response, but a good step towards a usable instruction-following LLM"
   ]
  }
 ],
 "metadata": {
  "kernelspec": {
   "display_name": "Python 3 (ipykernel)",
   "language": "python",
   "name": "python3"
  },
  "language_info": {
   "codemirror_mode": {
    "name": "ipython",
    "version": 3
   },
   "file_extension": ".py",
   "mimetype": "text/x-python",
   "name": "python",
   "nbconvert_exporter": "python",
   "pygments_lexer": "ipython3",
   "version": "3.9.16"
  }
 },
 "nbformat": 4,
 "nbformat_minor": 5
}
